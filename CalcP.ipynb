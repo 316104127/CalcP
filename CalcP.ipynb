{
  "nbformat": 4,
  "nbformat_minor": 0,
  "metadata": {
    "colab": {
      "name": "CalcP.ipynb",
      "provenance": [],
      "collapsed_sections": [],
      "authorship_tag": "ABX9TyN4FY5FqU+gaznBMnOtbYxK",
      "include_colab_link": true
    },
    "kernelspec": {
      "name": "python3",
      "display_name": "Python 3"
    },
    "language_info": {
      "name": "python"
    }
  },
  "cells": [
    {
      "cell_type": "markdown",
      "metadata": {
        "id": "view-in-github",
        "colab_type": "text"
      },
      "source": [
        "<a href=\"https://colab.research.google.com/github/316104127/CalcP/blob/main/CalcP.ipynb\" target=\"_parent\"><img src=\"https://colab.research.google.com/assets/colab-badge.svg\" alt=\"Open In Colab\"/></a>"
      ]
    },
    {
      "cell_type": "code",
      "source": [
        "def mult(var):\n",
        "    pos1 = 0\n",
        "    pos2 = 1 \n",
        "    resultado = var[pos1]*var[pos2]\n",
        "    pos=2\n",
        "    if len(var) > 2:   \n",
        "        for i in var:    \n",
        "            if pos < len(var):\n",
        "                resultado = resultado*var[pos]\n",
        "                pos += 1\n",
        "\n",
        "\n",
        "    \n",
        "    return resultado"
      ],
      "metadata": {
        "id": "D1Ic3N-gNNpH"
      },
      "execution_count": null,
      "outputs": []
    },
    {
      "cell_type": "code",
      "source": [
        "def sub(var):\n",
        "    pos1 = 0\n",
        "    pos2 = 1 \n",
        "    resultado = var[pos1]-var[pos2]\n",
        "    pos=2\n",
        "    if len(var) > 2:   \n",
        "        for i in var:    \n",
        "            if pos < len(var):\n",
        "                resultado = resultado-var[pos]\n",
        "                pos += 1\n",
        "\n",
        "\n",
        "    \n",
        "    return resultado"
      ],
      "metadata": {
        "id": "BSUKnJvMOmgb"
      },
      "execution_count": null,
      "outputs": []
    },
    {
      "cell_type": "code",
      "execution_count": null,
      "metadata": {
        "id": "KVfG8K3-tpxs"
      },
      "outputs": [],
      "source": [
        "def soma(var):\n",
        "    var_soma = sum(var)\n",
        "    return var_soma"
      ]
    },
    {
      "cell_type": "code",
      "source": [
        "def div(var):\n",
        "    pos1 = 0\n",
        "    pos2 = 1 \n",
        "    resultado = var[pos1]/var[pos2]\n",
        "    pos=2\n",
        "    if len(var) > 2:   \n",
        "        for i in var:    \n",
        "            if pos < len(var):\n",
        "                resultado = resultado/var[pos]\n",
        "                pos += 1\n",
        "\n",
        "\n",
        "    \n",
        "    return resultado "
      ],
      "metadata": {
        "id": "fa1vASEewXuk"
      },
      "execution_count": null,
      "outputs": []
    },
    {
      "cell_type": "code",
      "source": [
        "def switch(case):\n",
        "    if case == \"4\" or case == 4:\n",
        "        print('\\n\\nSoma')\n",
        "        v = soma(array_var)\n",
        "        print(v)\n",
        "        return menuinfos() \n",
        "    elif case == \"3\" or case == 3:\n",
        "        print('\\n\\nSubtração')\n",
        "        v = sub(array_var)\n",
        "        print(v)\n",
        "        return menuinfos()\n",
        "    elif case == \"2\" or case == 2:\n",
        "        print('\\n\\nDivisão')\n",
        "        v = div(array_var)\n",
        "        print(v)\n",
        "        return menuinfos()\n",
        "    elif case == \"1\" or case == 1:\n",
        "        print('\\n\\nMultiplicação')\n",
        "        v = mult(array_var)\n",
        "        print(v)\n",
        "        return menuinfos()\n",
        "    elif case in 'out':\n",
        "        menuout()\n",
        "        return 0\n",
        "    \n",
        "    else:\n",
        "        return 0 "
      ],
      "metadata": {
        "id": "uNZlOFpG0fUU"
      },
      "execution_count": null,
      "outputs": []
    },
    {
      "cell_type": "code",
      "source": [
        "def menuinfos():\n",
        "    array_resp = ['1','2','3','4','out']\n",
        "    print('\\n\\n')\n",
        "    print('CALC STORM')\n",
        "    print(\"\\nQual operação matemática deseja fazer ? :\\n\")\n",
        "    print('[ 1 ] Multiplicação ')\n",
        "    print('[ 2 ] Divisção ')\n",
        "    print('[ 3 ] Subtração ')\n",
        "    print('[ 4 ] Adição ')\n",
        "    print('\\n[Out]Outras Opções')\n",
        "    resp = input('\\n').lower() \n",
        "    if resp not in array_resp:\n",
        "        print('-'*10)\n",
        "        print('\\nSelecione uma opção válida\\n')\n",
        "        menuinfos()\n",
        "    switch(resp)"
      ],
      "metadata": {
        "id": "XaokNJx0SPdX"
      },
      "execution_count": null,
      "outputs": []
    },
    {
      "cell_type": "code",
      "source": [
        "def menuout():\n",
        "    array_resp=['r','x']\n",
        "    print('[ R ] Reescrever os valores ')\n",
        "    print('[ x ] Sair')\n",
        "    resp = input('\\n').lower() \n",
        "    if resp not in array_resp:\n",
        "        print('-'*10)\n",
        "        print('\\nSelecione uma opção válida\\n')\n",
        "        menuout()\n",
        "    elif resp == 'r':\n",
        "        print('Reescrever')\n",
        "        menu()\n",
        "    elif resp == 'x':\n",
        "        print('\\nDesligando\\n Of')\n",
        "    "
      ],
      "metadata": {
        "id": "NZ13EQ1QT2fD"
      },
      "execution_count": null,
      "outputs": []
    },
    {
      "cell_type": "code",
      "source": [
        "def menu():\n",
        "    global array_var\n",
        "    qtdn = 0\n",
        "    while qtdn < 2:\n",
        "        try:\n",
        "            qtdn = int(input('Quantos números deseja digitar ? '))\n",
        "            if qtdn < 2:\n",
        "                print('Mínimo aceitável 2')    \n",
        "        except:\n",
        "            print(\"Digite um número\")\n",
        "\n",
        "    cont = 0\n",
        "    array_var = []\n",
        "    while cont < qtdn:\n",
        "        array_var.append(int(input(f'Digite o {cont+1}° valor\\n')))\n",
        "        cont +=1\n",
        "    print(array_var)    \n",
        "    menuinfos()"
      ],
      "metadata": {
        "id": "n9EU0cNbs3Ve"
      },
      "execution_count": null,
      "outputs": []
    },
    {
      "cell_type": "code",
      "source": [
        "menu()"
      ],
      "metadata": {
        "colab": {
          "base_uri": "https://localhost:8080/"
        },
        "id": "ya-upHcST__g",
        "outputId": "cd096ba2-6612-46b3-9187-2a34043c9d31"
      },
      "execution_count": null,
      "outputs": [
        {
          "output_type": "stream",
          "name": "stdout",
          "text": [
            "Quanto números deseja digitar ? 0\n",
            "Digite pelo menos 2 valores\n",
            "Quanto números deseja digitar ? p\n",
            "Digite um número\n",
            "Quanto números deseja digitar ? 5\n",
            "Digite o 1° valor\n",
            "5\n",
            "Digite o 2° valor\n",
            "5\n",
            "Digite o 3° valor\n",
            "5\n",
            "Digite o 4° valor\n",
            "5\n",
            "Digite o 5° valor\n",
            "5\n",
            "[5, 5, 5, 5, 5]\n",
            "\n",
            "\n",
            "\n",
            "CALC STORM\n",
            "\n",
            "Qual operação matemática deseja fazer ? :\n",
            "\n",
            "[ 1 ] Multiplicação \n",
            "[ 2 ] Divisção \n",
            "[ 3 ] Subtração \n",
            "[ 4 ] Adição \n",
            "\n",
            "[Out]Outras Opções\n",
            "\n",
            "1\n",
            "\n",
            "\n",
            "Multiplicação\n",
            "3125\n",
            "\n",
            "\n",
            "\n",
            "CALC STORM\n",
            "\n",
            "Qual operação matemática deseja fazer ? :\n",
            "\n",
            "[ 1 ] Multiplicação \n",
            "[ 2 ] Divisção \n",
            "[ 3 ] Subtração \n",
            "[ 4 ] Adição \n",
            "\n",
            "[Out]Outras Opções\n",
            "\n",
            "2\n",
            "\n",
            "\n",
            "Divisão\n",
            "0.008\n",
            "\n",
            "\n",
            "\n",
            "CALC STORM\n",
            "\n",
            "Qual operação matemática deseja fazer ? :\n",
            "\n",
            "[ 1 ] Multiplicação \n",
            "[ 2 ] Divisção \n",
            "[ 3 ] Subtração \n",
            "[ 4 ] Adição \n",
            "\n",
            "[Out]Outras Opções\n",
            "\n",
            "x\n",
            "----------\n",
            "\n",
            "Selecione uma opção válida\n",
            "\n",
            "\n",
            "\n",
            "\n",
            "CALC STORM\n",
            "\n",
            "Qual operação matemática deseja fazer ? :\n",
            "\n",
            "[ 1 ] Multiplicação \n",
            "[ 2 ] Divisção \n",
            "[ 3 ] Subtração \n",
            "[ 4 ] Adição \n",
            "\n",
            "[Out]Outras Opções\n",
            "\n",
            "Out\n",
            "[ R ] Reescrever os valores \n",
            "[ x ] Sair\n",
            "\n",
            "r\n",
            "Reescrever\n",
            "Quanto números deseja digitar ? 2\n",
            "Digite o 1° valor\n",
            "10\n",
            "Digite o 2° valor\n",
            "2\n",
            "[10, 2]\n",
            "\n",
            "\n",
            "\n",
            "CALC STORM\n",
            "\n",
            "Qual operação matemática deseja fazer ? :\n",
            "\n",
            "[ 1 ] Multiplicação \n",
            "[ 2 ] Divisção \n",
            "[ 3 ] Subtração \n",
            "[ 4 ] Adição \n",
            "\n",
            "[Out]Outras Opções\n",
            "\n",
            "4\n",
            "\n",
            "\n",
            "Soma\n",
            "12\n",
            "\n",
            "\n",
            "\n",
            "CALC STORM\n",
            "\n",
            "Qual operação matemática deseja fazer ? :\n",
            "\n",
            "[ 1 ] Multiplicação \n",
            "[ 2 ] Divisção \n",
            "[ 3 ] Subtração \n",
            "[ 4 ] Adição \n",
            "\n",
            "[Out]Outras Opções\n",
            "\n",
            "out\n",
            "[ R ] Reescrever os valores \n",
            "[ x ] Sair\n",
            "\n",
            "x\n",
            "\n",
            "Desligando\n",
            " Of\n"
          ]
        }
      ]
    }
  ]
}